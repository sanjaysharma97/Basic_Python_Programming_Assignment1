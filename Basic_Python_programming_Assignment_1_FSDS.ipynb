{
 "cells": [
  {
   "cell_type": "markdown",
   "id": "dee62463",
   "metadata": {},
   "source": [
    "# 1. Write a Python program to print \"Hello Python\"?\n",
    "\n",
    "ANSWER- "
   ]
  },
  {
   "cell_type": "code",
   "execution_count": 24,
   "id": "b1c7bc93",
   "metadata": {},
   "outputs": [
    {
     "name": "stdout",
     "output_type": "stream",
     "text": [
      "Hello Python\n"
     ]
    }
   ],
   "source": [
    "print(\"Hello Python\")"
   ]
  },
  {
   "cell_type": "markdown",
   "id": "abc91793",
   "metadata": {},
   "source": [
    "# 2. Write a Python program to do arithmetical operations addition and division.?\n",
    "\n",
    "ANSWER-"
   ]
  },
  {
   "cell_type": "code",
   "execution_count": 36,
   "id": "1754a327",
   "metadata": {},
   "outputs": [
    {
     "name": "stdout",
     "output_type": "stream",
     "text": [
      "enter first number 100\n",
      "enter second number 6\n",
      "The Addition of 100.0 and 6.0 = 106.0\n",
      "The Division of 100.0 and 6.0 = 16.666666666666668\n"
     ]
    }
   ],
   "source": [
    "num1=float(input(\"enter first number \")) #user input\n",
    "num2=float(input(\"enter second number \"))\n",
    "add=num1+num2\n",
    "div=num1/num2\n",
    "print(\"The Addition of {0} and {1} = {2}\".format(num1, num2, add)) #The format() method formats the specified value(s) and insert them inside the string's placeholder\n",
    "print(\"The Division of {0} and {1} = {2}\".format(num1, num2, div))"
   ]
  },
  {
   "cell_type": "markdown",
   "id": "ec0e9005",
   "metadata": {},
   "source": [
    "# 3. Write a Python program to find the area of a triangle?\n",
    "\n",
    "ANSWER-"
   ]
  },
  {
   "cell_type": "code",
   "execution_count": 40,
   "id": "f91e231a",
   "metadata": {},
   "outputs": [
    {
     "name": "stdout",
     "output_type": "stream",
     "text": [
      "enter the height of triangle 18\n",
      "enter the base of triangle 12\n",
      "the area of a triangle on given inputs is 108.0\n"
     ]
    }
   ],
   "source": [
    "Height_triangle=float(input(\"enter the height of triangle \"))\n",
    "Base_triangle=float(input(\"enter the base of triangle \"))\n",
    "ar_triangle=0.5*Height_triangle*Base_triangle\n",
    "print(f'the area of a triangle on given inputs is {ar_triangle}')# using formatted string to print the ouput"
   ]
  },
  {
   "cell_type": "markdown",
   "id": "cb37c140",
   "metadata": {},
   "source": [
    "# 4. Write a Python program to swap two variables?\n",
    "\n",
    "ANSWER-"
   ]
  },
  {
   "cell_type": "code",
   "execution_count": 43,
   "id": "a8706992",
   "metadata": {},
   "outputs": [
    {
     "name": "stdout",
     "output_type": "stream",
     "text": [
      "enter a number 1-> 20\n",
      "enter a number 2-> 30\n",
      "Before swapping 20.0 30.0\n",
      "After swapping 30.0 20.0\n"
     ]
    }
   ],
   "source": [
    "num1=float(input(\"enter a number 1-> \"))\n",
    "num2=float(input(\"enter a number 2-> \"))\n",
    "def swap(a,b): #function to do swapping\n",
    "    temp=a\n",
    "    a=b\n",
    "    b=temp\n",
    "    return a,b\n",
    "print(\"Before swapping\",num1,num2)\n",
    "num1,num2=swap(num1,num2)#calling func\n",
    "print(\"After swapping\",num1,num2)"
   ]
  },
  {
   "cell_type": "markdown",
   "id": "b0d34ec4",
   "metadata": {},
   "source": [
    "# 5. Write a Python program to generate a random number?\n",
    "\n",
    "ANSWER-"
   ]
  },
  {
   "cell_type": "code",
   "execution_count": 46,
   "id": "b1a40aa5",
   "metadata": {},
   "outputs": [
    {
     "name": "stdout",
     "output_type": "stream",
     "text": [
      "0.4044661145418401\n"
     ]
    }
   ],
   "source": [
    "#generate a random number\n",
    "import random \n",
    "num=random.random()#without any range\n",
    "print(num)"
   ]
  },
  {
   "cell_type": "code",
   "execution_count": 51,
   "id": "2a2f0b7f",
   "metadata": {},
   "outputs": [
    {
     "name": "stdout",
     "output_type": "stream",
     "text": [
      "random number  444\n"
     ]
    }
   ],
   "source": [
    "#generate a random number\n",
    "from random import randint\n",
    "def generate_random_numbers(start=0,end=500):#print random number in between given range\n",
    "    print(\"random number \",randint(start,end))\n",
    "generate_random_numbers()\n"
   ]
  },
  {
   "cell_type": "code",
   "execution_count": null,
   "id": "0d9069d0",
   "metadata": {},
   "outputs": [],
   "source": [
    "######################################################################"
   ]
  }
 ],
 "metadata": {
  "kernelspec": {
   "display_name": "Python 3 (ipykernel)",
   "language": "python",
   "name": "python3"
  },
  "language_info": {
   "codemirror_mode": {
    "name": "ipython",
    "version": 3
   },
   "file_extension": ".py",
   "mimetype": "text/x-python",
   "name": "python",
   "nbconvert_exporter": "python",
   "pygments_lexer": "ipython3",
   "version": "3.9.12"
  }
 },
 "nbformat": 4,
 "nbformat_minor": 5
}
